{
 "cells": [
  {
   "cell_type": "code",
   "execution_count": 1,
   "id": "09a13e15-8657-468d-b7b7-9ab699d21874",
   "metadata": {},
   "outputs": [],
   "source": [
    "import pandas as pd\n",
    "import numpy as np\n",
    "import seaborn as sns\n",
    "import matplotlib.pyplot as plt"
   ]
  },
  {
   "cell_type": "code",
   "execution_count": 17,
   "id": "353d2ab3-05f7-45a3-981c-91a426d1de30",
   "metadata": {},
   "outputs": [
    {
     "data": {
      "text/html": [
       "<div>\n",
       "<style scoped>\n",
       "    .dataframe tbody tr th:only-of-type {\n",
       "        vertical-align: middle;\n",
       "    }\n",
       "\n",
       "    .dataframe tbody tr th {\n",
       "        vertical-align: top;\n",
       "    }\n",
       "\n",
       "    .dataframe thead th {\n",
       "        text-align: right;\n",
       "    }\n",
       "</style>\n",
       "<table border=\"1\" class=\"dataframe\">\n",
       "  <thead>\n",
       "    <tr style=\"text-align: right;\">\n",
       "      <th></th>\n",
       "      <th>Nome</th>\n",
       "      <th>Data de Nascimento</th>\n",
       "      <th>Valor da Dívida</th>\n",
       "      <th>Dias até Pagamento</th>\n",
       "      <th>Motivo da Dívida</th>\n",
       "    </tr>\n",
       "  </thead>\n",
       "  <tbody>\n",
       "    <tr>\n",
       "      <th>0</th>\n",
       "      <td>Nicolas Nascimento</td>\n",
       "      <td>15/08/1987</td>\n",
       "      <td>32151.63</td>\n",
       "      <td>1</td>\n",
       "      <td>Outros</td>\n",
       "    </tr>\n",
       "    <tr>\n",
       "      <th>1</th>\n",
       "      <td>Maitê Freitas</td>\n",
       "      <td>07/08/1969</td>\n",
       "      <td>14113.95</td>\n",
       "      <td>8</td>\n",
       "      <td>Financiamento de automóveis</td>\n",
       "    </tr>\n",
       "    <tr>\n",
       "      <th>2</th>\n",
       "      <td>Esther da Costa</td>\n",
       "      <td>29/01/1998</td>\n",
       "      <td>36955.33</td>\n",
       "      <td>22</td>\n",
       "      <td>Outros</td>\n",
       "    </tr>\n",
       "    <tr>\n",
       "      <th>3</th>\n",
       "      <td>Davi Lucca Santos</td>\n",
       "      <td>30/05/1960</td>\n",
       "      <td>44662.89</td>\n",
       "      <td>3</td>\n",
       "      <td>Cheque especial</td>\n",
       "    </tr>\n",
       "    <tr>\n",
       "      <th>4</th>\n",
       "      <td>Isaac Novaes</td>\n",
       "      <td>27/12/1984</td>\n",
       "      <td>21385.13</td>\n",
       "      <td>1</td>\n",
       "      <td>Cartão de crédito</td>\n",
       "    </tr>\n",
       "    <tr>\n",
       "      <th>...</th>\n",
       "      <td>...</td>\n",
       "      <td>...</td>\n",
       "      <td>...</td>\n",
       "      <td>...</td>\n",
       "      <td>...</td>\n",
       "    </tr>\n",
       "    <tr>\n",
       "      <th>95</th>\n",
       "      <td>Sr. Diogo Cavalcanti</td>\n",
       "      <td>21/01/1982</td>\n",
       "      <td>13627.55</td>\n",
       "      <td>26</td>\n",
       "      <td>Financiamento de imóveis</td>\n",
       "    </tr>\n",
       "    <tr>\n",
       "      <th>96</th>\n",
       "      <td>Beatriz Porto</td>\n",
       "      <td>12/03/1982</td>\n",
       "      <td>14619.84</td>\n",
       "      <td>23</td>\n",
       "      <td>Outros</td>\n",
       "    </tr>\n",
       "    <tr>\n",
       "      <th>97</th>\n",
       "      <td>Sra. Eloah Souza</td>\n",
       "      <td>16/04/2005</td>\n",
       "      <td>49773.42</td>\n",
       "      <td>18</td>\n",
       "      <td>Outros</td>\n",
       "    </tr>\n",
       "    <tr>\n",
       "      <th>98</th>\n",
       "      <td>Luiza Gonçalves</td>\n",
       "      <td>26/10/1984</td>\n",
       "      <td>36061.21</td>\n",
       "      <td>5</td>\n",
       "      <td>Financiamento de automóveis</td>\n",
       "    </tr>\n",
       "    <tr>\n",
       "      <th>99</th>\n",
       "      <td>Raquel Fogaça</td>\n",
       "      <td>06/06/2002</td>\n",
       "      <td>15187.04</td>\n",
       "      <td>2</td>\n",
       "      <td>Cheque especial</td>\n",
       "    </tr>\n",
       "  </tbody>\n",
       "</table>\n",
       "<p>100 rows × 5 columns</p>\n",
       "</div>"
      ],
      "text/plain": [
       "                    Nome Data de Nascimento  Valor da Dívida  \\\n",
       "0     Nicolas Nascimento         15/08/1987         32151.63   \n",
       "1          Maitê Freitas         07/08/1969         14113.95   \n",
       "2        Esther da Costa         29/01/1998         36955.33   \n",
       "3      Davi Lucca Santos         30/05/1960         44662.89   \n",
       "4           Isaac Novaes         27/12/1984         21385.13   \n",
       "..                   ...                ...              ...   \n",
       "95  Sr. Diogo Cavalcanti         21/01/1982         13627.55   \n",
       "96         Beatriz Porto         12/03/1982         14619.84   \n",
       "97      Sra. Eloah Souza         16/04/2005         49773.42   \n",
       "98       Luiza Gonçalves         26/10/1984         36061.21   \n",
       "99         Raquel Fogaça         06/06/2002         15187.04   \n",
       "\n",
       "    Dias até Pagamento             Motivo da Dívida  \n",
       "0                    1                       Outros  \n",
       "1                    8  Financiamento de automóveis  \n",
       "2                   22                       Outros  \n",
       "3                    3              Cheque especial  \n",
       "4                    1            Cartão de crédito  \n",
       "..                 ...                          ...  \n",
       "95                  26     Financiamento de imóveis  \n",
       "96                  23                       Outros  \n",
       "97                  18                       Outros  \n",
       "98                   5  Financiamento de automóveis  \n",
       "99                   2              Cheque especial  \n",
       "\n",
       "[100 rows x 5 columns]"
      ]
     },
     "execution_count": 17,
     "metadata": {},
     "output_type": "execute_result"
    }
   ],
   "source": [
    "df = pd.read_csv('recuperacao.csv', sep=\";\")\n",
    "df"
   ]
  },
  {
   "cell_type": "code",
   "execution_count": 27,
   "id": "fa7b6d57-8052-4b24-84e5-c14eda2d1ed8",
   "metadata": {},
   "outputs": [],
   "source": [
    "df_cheque_especial = df.loc[df['Motivo da Dívida'] == 'Cheque especial']"
   ]
  },
  {
   "cell_type": "code",
   "execution_count": 97,
   "id": "3ad654f5-4543-4775-8a75-45fdacc461d2",
   "metadata": {},
   "outputs": [],
   "source": [
    "media = df_cheque_especial['Dias até Pagamento'].median()\n",
    "amostra = df['Dias até Pagamento'] - df_cheque_especial['Dias até Pagamento'].median()\n",
    "md_desvio = amostra.pow(2).median() / len(df_cheque_especial)\n",
    "variancia = md_desvio\n",
    "desvio_padrao = np.sqrt(variancia)"
   ]
  },
  {
   "cell_type": "code",
   "execution_count": 111,
   "id": "092e9c83-b07c-4216-88ec-cf450c4b0522",
   "metadata": {},
   "outputs": [
    {
     "data": {
      "text/plain": [
       "3.6265342922358594"
      ]
     },
     "execution_count": 111,
     "metadata": {},
     "output_type": "execute_result"
    }
   ],
   "source": [
    "sete_dias = (media - 7) / desvio_padrao\n",
    "sete_dias #3.62 representa 99%"
   ]
  },
  {
   "cell_type": "code",
   "execution_count": 109,
   "id": "605d11f8-32e0-4dd0-b508-2641333e25c7",
   "metadata": {},
   "outputs": [
    {
     "data": {
      "text/plain": [
       "0.836892528977506"
      ]
     },
     "execution_count": 109,
     "metadata": {},
     "output_type": "execute_result"
    }
   ],
   "source": [
    "#Pagamento até 12 dias\n",
    "doze_dias = (media - 12) / desvio_padrao\n",
    "doze_dias #0.83 representa 79%"
   ]
  },
  {
   "cell_type": "code",
   "execution_count": 107,
   "id": "53c7494c-12db-4c5c-94de-73dfb1182ec7",
   "metadata": {},
   "outputs": [
    {
     "data": {
      "text/plain": [
       "0.2789641763258353"
      ]
     },
     "execution_count": 107,
     "metadata": {},
     "output_type": "execute_result"
    }
   ],
   "source": [
    "#Pagamento até 13 dias\n",
    "treze_media = (media - 13) / desvio_padrao\n",
    "treze_media #0.27 representa 60%"
   ]
  },
  {
   "cell_type": "code",
   "execution_count": 113,
   "id": "5fa1e96c-2821-42de-9b0a-fec69dc7efd4",
   "metadata": {},
   "outputs": [
    {
     "data": {
      "text/plain": [
       "-3.6265342922358594"
      ]
     },
     "execution_count": 113,
     "metadata": {},
     "output_type": "execute_result"
    }
   ],
   "source": [
    "#Pagamento até 20 dias\n",
    "vinte_dias = (media - 20) / desvio_padrao\n",
    "vinte_dias #-3.62 representa 0,01%"
   ]
  },
  {
   "cell_type": "code",
   "execution_count": 133,
   "id": "509d52b1-aa2b-43bf-8c3a-da495bf66472",
   "metadata": {},
   "outputs": [
    {
     "data": {
      "text/plain": [
       "Text(0, 0.5, 'Percentual')"
      ]
     },
     "execution_count": 133,
     "metadata": {},
     "output_type": "execute_result"
    },
    {
     "data": {
      "image/png": "[encoded data removed]",
      "text/plain": [
       "<Figure size 640x480 with 1 Axes>"
      ]
     },
     "metadata": {},
     "output_type": "display_data"
    }
   ],
   "source": [
    "dias = ['7 Dias','12 Dias','13 Dias','20 Dias']\n",
    "z_scores = [99,79,60,0.01]\n",
    "fig, ax = plt.subplots()\n",
    "ax.bar(dias, z_scores, color='skyblue')\n",
    "ax.axhline(y=50, color = 'red', linewidth = 1)\n",
    "ax.set_title('Cheque Especial')\n",
    "ax.set_xlabel('Período Pagamento')\n",
    "ax.set_ylabel('Percentual')"
   ]
  }
 ],
 "metadata": {
  "kernelspec": {
   "display_name": "Python 3 (ipykernel)",
   "language": "python",
   "name": "python3"
  },
  "language_info": {
   "codemirror_mode": {
    "name": "ipython",
    "version": 3
   },
   "file_extension": ".py",
   "mimetype": "text/x-python",
   "name": "python",
   "nbconvert_exporter": "python",
   "pygments_lexer": "ipython3",
   "version": "3.12.7"
  }
 },
 "nbformat": 4,
 "nbformat_minor": 5
}
